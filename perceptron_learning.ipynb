{
 "cells": [
  {
   "cell_type": "code",
   "execution_count": 37,
   "metadata": {
    "collapsed": false
   },
   "outputs": [
    {
     "name": "stdout",
     "output_type": "stream",
     "text": [
      "Populating the interactive namespace from numpy and matplotlib\n"
     ]
    },
    {
     "data": {
      "image/png": "[encoded data removed]",
      "text/plain": [
       "<matplotlib.figure.Figure at 0x7f81f1d70d10>"
      ]
     },
     "metadata": {},
     "output_type": "display_data"
    }
   ],
   "source": [
    "# code sources \n",
    "# http://terrence.logdown.com/posts/290508-python-simple-perceptron-learning-algorithm-implementations\n",
    "\n",
    "%pylab inline\n",
    "import matplotlib.pyplot as plt\n",
    "import numpy as np\n",
    "\n",
    "# dataset for question i\n",
    "DATASET_I = np.array([\n",
    "        ((1, -1, -1), 1), \n",
    "        ((1, 2, 1), -1), \n",
    "        ((1, 1, 1), 1), \n",
    "        ((1, -1, 1), 1), \n",
    "        ((1, 1, -1), -1)\n",
    "    ])\n",
    "\n",
    "# dataset for question ii: XOR dataset\n",
    "DATASET_II = np.array([\n",
    "        ((1, 0, 0), 0), \n",
    "        ((1, 0, 1), 1), \n",
    "        ((1, 1, 0), 1), \n",
    "        ((1, 1, 1), 0)\n",
    "    ])\n",
    "\n",
    "# dataset for question iii: add to question i\n",
    "DATASET_III = np.concatenate((DATASET_I, np.array([\n",
    "        ((1, 0, 0), 1), \n",
    "        ((1, 0.5, 0.5), -1), \n",
    "        ((1, 1.5, 0), -1), \n",
    "        ((1, 2, -0.5), -1), \n",
    "        ((1, -1, 0), 1)\n",
    "    ])))\n",
    "\n",
    "\n",
    "def check_error(w, dataset):\n",
    "    result = None\n",
    "    error = 0\n",
    "    for x, s in dataset:\n",
    "        x = np.array(x)\n",
    "        if int(np.sign(w.T.dot(x))) != s:\n",
    "            result = x, s\n",
    "            error += 1\n",
    "    #print  \"error=%s/%s\" % (error, len(dataset))\n",
    "    return result\n",
    "\n",
    "# perceptron learning\n",
    "def pla(dataset):\n",
    "    w = np.zeros(3)\n",
    "    l = 0\n",
    "    while check_error(w, dataset) is not None:\n",
    "        x, s = check_error(w, dataset)\n",
    "        w += s * x\n",
    "        l = l + 1\n",
    "        if (l == 1000): # set the limit of iteration count to avoid infinite loop\n",
    "            break\n",
    "    return w\n",
    "\n",
    "dataset = DATASET_III\n",
    "w = pla(dataset)\n",
    "\n",
    "# visualization\n",
    "ps = [v[0] for v in dataset]\n",
    "fig = plt.figure()\n",
    "ax1 = fig.add_subplot(111)\n",
    "\n",
    "ax1.scatter([v[1] for v in ps[:4]], [v[2] for v in ps[:4]], s=10, c='b', marker=\"o\", label='O')\n",
    "ax1.scatter([v[1] for v in ps[4:]], [v[2] for v in ps[4:]], s=10, c='r', marker=\"x\", label='X')\n",
    "l = np.linspace(-2, 2)\n",
    "a,b = -w[1]/w[2], -w[0]/w[2]\n",
    "ax1.plot(l, a*l + b, 'b-')\n",
    "#plt.legend(loc='upper left')\n",
    "plt.show()"
   ]
  }
 ],
 "metadata": {
  "kernelspec": {
   "display_name": "Python [Root]",
   "language": "python",
   "name": "Python [Root]"
  },
  "language_info": {
   "codemirror_mode": {
    "name": "ipython",
    "version": 2
   },
   "file_extension": ".py",
   "mimetype": "text/x-python",
   "name": "python",
   "nbconvert_exporter": "python",
   "pygments_lexer": "ipython2",
   "version": "2.7.12"
  }
 },
 "nbformat": 4,
 "nbformat_minor": 0
}
